{
  "cells": [
    {
      "cell_type": "markdown",
      "metadata": {
        "id": "VVuftro3BTEB"
      },
      "source": [
        "## **PCOS Analysis**"
      ]
    },
    {
      "cell_type": "code",
      "execution_count": 2,
      "metadata": {
        "id": "xwWu4ccJBhGG"
      },
      "outputs": [],
      "source": [
        "# Import the necessary libraries\n",
        "import pandas as pd\n",
        "import numpy as np\n",
        "import matplotlib.pyplot as plt\n",
        "import seaborn as sns\n",
        "from sklearn.preprocessing import LabelEncoder\n",
        "from sklearn.preprocessing import MinMaxScaler"
      ]
    },
    {
      "cell_type": "code",
      "execution_count": 3,
      "metadata": {
        "colab": {
          "base_uri": "https://localhost:8080/",
          "height": 464
        },
        "id": "emjeAr0VB1yJ",
        "outputId": "8dd7bbf8-dc4e-4bbc-ab4f-a9625bcc480d"
      },
      "outputs": [
        {
          "data": {
            "text/html": [
              "<div>\n",
              "<style scoped>\n",
              "    .dataframe tbody tr th:only-of-type {\n",
              "        vertical-align: middle;\n",
              "    }\n",
              "\n",
              "    .dataframe tbody tr th {\n",
              "        vertical-align: top;\n",
              "    }\n",
              "\n",
              "    .dataframe thead th {\n",
              "        text-align: right;\n",
              "    }\n",
              "</style>\n",
              "<table border=\"1\" class=\"dataframe\">\n",
              "  <thead>\n",
              "    <tr style=\"text-align: right;\">\n",
              "      <th></th>\n",
              "      <th>Age</th>\n",
              "      <th>Weight_kg</th>\n",
              "      <th>Height_ft</th>\n",
              "      <th>Marital_Status</th>\n",
              "      <th>PCOS</th>\n",
              "      <th>Family_History_PCOS</th>\n",
              "      <th>Menstrual_Irregularity</th>\n",
              "      <th>Hormonal_Imbalance</th>\n",
              "      <th>Hyperandrogenism</th>\n",
              "      <th>Hirsutism</th>\n",
              "      <th>...</th>\n",
              "      <th>Diet_Multivitamin</th>\n",
              "      <th>Vegetarian</th>\n",
              "      <th>Exercise_Frequency</th>\n",
              "      <th>Exercise_Type</th>\n",
              "      <th>Exercise_Duration</th>\n",
              "      <th>Sleep_Hours</th>\n",
              "      <th>Stress_Level</th>\n",
              "      <th>Smoking</th>\n",
              "      <th>Exercise_Benefit</th>\n",
              "      <th>PCOS_Medication</th>\n",
              "    </tr>\n",
              "  </thead>\n",
              "  <tbody>\n",
              "    <tr>\n",
              "      <th>0</th>\n",
              "      <td>20-25</td>\n",
              "      <td>66.0</td>\n",
              "      <td>157.48</td>\n",
              "      <td>Unmarried</td>\n",
              "      <td>No</td>\n",
              "      <td>No</td>\n",
              "      <td>Yes</td>\n",
              "      <td>No</td>\n",
              "      <td>No</td>\n",
              "      <td>No</td>\n",
              "      <td>...</td>\n",
              "      <td>0</td>\n",
              "      <td>No</td>\n",
              "      <td>Rarely</td>\n",
              "      <td>Cardio (e.g., running, cycling, swimming)</td>\n",
              "      <td>30 minutes</td>\n",
              "      <td>Less than 6 hours</td>\n",
              "      <td>No</td>\n",
              "      <td>No</td>\n",
              "      <td>Somewhat</td>\n",
              "      <td>No.</td>\n",
              "    </tr>\n",
              "    <tr>\n",
              "      <th>1</th>\n",
              "      <td>Less than 20</td>\n",
              "      <td>56.0</td>\n",
              "      <td>165.10</td>\n",
              "      <td>Unmarried</td>\n",
              "      <td>No</td>\n",
              "      <td>No</td>\n",
              "      <td>No</td>\n",
              "      <td>No</td>\n",
              "      <td>No</td>\n",
              "      <td>No</td>\n",
              "      <td>...</td>\n",
              "      <td>0</td>\n",
              "      <td>No</td>\n",
              "      <td>Daily</td>\n",
              "      <td>No Exercise</td>\n",
              "      <td>Less than 30 minutes</td>\n",
              "      <td>6-8 hours</td>\n",
              "      <td>No</td>\n",
              "      <td>No</td>\n",
              "      <td>Somewhat</td>\n",
              "      <td>No.</td>\n",
              "    </tr>\n",
              "  </tbody>\n",
              "</table>\n",
              "<p>2 rows × 36 columns</p>\n",
              "</div>"
            ],
            "text/plain": [
              "            Age  Weight_kg  Height_ft Marital_Status PCOS Family_History_PCOS  \\\n",
              "0         20-25       66.0     157.48      Unmarried   No                  No   \n",
              "1  Less than 20       56.0     165.10      Unmarried   No                  No   \n",
              "\n",
              "  Menstrual_Irregularity Hormonal_Imbalance Hyperandrogenism Hirsutism  ...  \\\n",
              "0                    Yes                 No               No        No  ...   \n",
              "1                     No                 No               No        No  ...   \n",
              "\n",
              "  Diet_Multivitamin Vegetarian Exercise_Frequency  \\\n",
              "0                 0         No             Rarely   \n",
              "1                 0         No              Daily   \n",
              "\n",
              "                               Exercise_Type     Exercise_Duration  \\\n",
              "0  Cardio (e.g., running, cycling, swimming)            30 minutes   \n",
              "1                                No Exercise  Less than 30 minutes   \n",
              "\n",
              "         Sleep_Hours  Stress_Level  Smoking  Exercise_Benefit  PCOS_Medication  \n",
              "0  Less than 6 hours            No       No          Somewhat              No.  \n",
              "1          6-8 hours            No       No          Somewhat              No.  \n",
              "\n",
              "[2 rows x 36 columns]"
            ]
          },
          "execution_count": 3,
          "metadata": {},
          "output_type": "execute_result"
        }
      ],
      "source": [
        "# Load the dataset\n",
        "df=pd.read_csv('Dataset/Cleaned-Data.csv')\n",
        "df.head(2)\n"
      ]
    },
    {
      "cell_type": "code",
      "execution_count": 4,
      "metadata": {
        "colab": {
          "base_uri": "https://localhost:8080/"
        },
        "id": "k7v5Yb-0CLHd",
        "outputId": "f76d68cb-322b-4b4b-b521-9ee961ea7efc"
      },
      "outputs": [
        {
          "data": {
            "text/plain": [
              "(173, 36)"
            ]
          },
          "execution_count": 4,
          "metadata": {},
          "output_type": "execute_result"
        }
      ],
      "source": [
        "# Shape of the dataset\n",
        "df.shape\n"
      ]
    },
    {
      "cell_type": "code",
      "execution_count": 5,
      "metadata": {
        "colab": {
          "base_uri": "https://localhost:8080/",
          "height": 1000
        },
        "id": "Akz2E8eCCeQ4",
        "outputId": "a669b6ca-49d9-46be-d1e7-0506ce97cf09"
      },
      "outputs": [
        {
          "data": {
            "text/plain": [
              "Age                           0\n",
              "Weight_kg                     0\n",
              "Height_ft                     0\n",
              "Marital_Status                0\n",
              "PCOS                          0\n",
              "Family_History_PCOS           0\n",
              "Menstrual_Irregularity        0\n",
              "Hormonal_Imbalance            0\n",
              "Hyperandrogenism              0\n",
              "Hirsutism                     0\n",
              "Mental_Health                 0\n",
              "Conception_Difficulty         0\n",
              "Insulin_Resistance            0\n",
              "Diabetes                      0\n",
              "Childhood_Trauma              0\n",
              "Cardiovascular_Disease        0\n",
              "Diet_Bread_Cereals            0\n",
              "Diet_Milk_Products            0\n",
              "Diet_Fruits                   0\n",
              "Diet_Vegetables               0\n",
              "Diet_Starchy_Vegetables       0\n",
              "Diet_NonStarchy_Vegetables    0\n",
              "Diet_Fats                     0\n",
              "Diet_Sweets                   0\n",
              "Diet_Fried_Food               0\n",
              "Diet_Tea_Coffee               0\n",
              "Diet_Multivitamin             0\n",
              "Vegetarian                    0\n",
              "Exercise_Frequency            0\n",
              "Exercise_Type                 0\n",
              "Exercise_Duration             0\n",
              "Sleep_Hours                   0\n",
              "Stress_Level                  0\n",
              "Smoking                       0\n",
              "Exercise_Benefit              0\n",
              "PCOS_Medication               0\n",
              "dtype: int64"
            ]
          },
          "execution_count": 5,
          "metadata": {},
          "output_type": "execute_result"
        }
      ],
      "source": [
        "# Check for missing data\n",
        "df.isnull().sum()"
      ]
    },
    {
      "cell_type": "code",
      "execution_count": 6,
      "metadata": {
        "colab": {
          "base_uri": "https://localhost:8080/"
        },
        "id": "Ttg16_8NSJSa",
        "outputId": "50d4d743-5794-483d-da5b-07f1bb465a63"
      },
      "outputs": [
        {
          "data": {
            "text/plain": [
              "np.int64(0)"
            ]
          },
          "execution_count": 6,
          "metadata": {},
          "output_type": "execute_result"
        }
      ],
      "source": [
        "# Check for duplicate values\n",
        "df.duplicated().sum()"
      ]
    },
    {
      "cell_type": "code",
      "execution_count": 7,
      "metadata": {
        "colab": {
          "base_uri": "https://localhost:8080/"
        },
        "id": "wHv54nDRCtXZ",
        "outputId": "42d713bd-e09f-4a09-ccd7-07d0c196a959"
      },
      "outputs": [
        {
          "name": "stdout",
          "output_type": "stream",
          "text": [
            "<class 'pandas.core.frame.DataFrame'>\n",
            "RangeIndex: 173 entries, 0 to 172\n",
            "Data columns (total 36 columns):\n",
            " #   Column                      Non-Null Count  Dtype  \n",
            "---  ------                      --------------  -----  \n",
            " 0   Age                         173 non-null    object \n",
            " 1   Weight_kg                   173 non-null    float64\n",
            " 2   Height_ft                   173 non-null    float64\n",
            " 3   Marital_Status              173 non-null    object \n",
            " 4   PCOS                        173 non-null    object \n",
            " 5   Family_History_PCOS         173 non-null    object \n",
            " 6   Menstrual_Irregularity      173 non-null    object \n",
            " 7   Hormonal_Imbalance          173 non-null    object \n",
            " 8   Hyperandrogenism            173 non-null    object \n",
            " 9   Hirsutism                   173 non-null    object \n",
            " 10  Mental_Health               173 non-null    object \n",
            " 11  Conception_Difficulty       173 non-null    object \n",
            " 12  Insulin_Resistance          173 non-null    object \n",
            " 13  Diabetes                    173 non-null    object \n",
            " 14  Childhood_Trauma            173 non-null    object \n",
            " 15  Cardiovascular_Disease      173 non-null    object \n",
            " 16  Diet_Bread_Cereals          173 non-null    int64  \n",
            " 17  Diet_Milk_Products          173 non-null    int64  \n",
            " 18  Diet_Fruits                 173 non-null    int64  \n",
            " 19  Diet_Vegetables             173 non-null    int64  \n",
            " 20  Diet_Starchy_Vegetables     173 non-null    int64  \n",
            " 21  Diet_NonStarchy_Vegetables  173 non-null    int64  \n",
            " 22  Diet_Fats                   173 non-null    int64  \n",
            " 23  Diet_Sweets                 173 non-null    int64  \n",
            " 24  Diet_Fried_Food             173 non-null    int64  \n",
            " 25  Diet_Tea_Coffee             173 non-null    int64  \n",
            " 26  Diet_Multivitamin           173 non-null    int64  \n",
            " 27  Vegetarian                  173 non-null    object \n",
            " 28  Exercise_Frequency          173 non-null    object \n",
            " 29  Exercise_Type               173 non-null    object \n",
            " 30  Exercise_Duration           173 non-null    object \n",
            " 31  Sleep_Hours                 173 non-null    object \n",
            " 32  Stress_Level                173 non-null    object \n",
            " 33  Smoking                     173 non-null    object \n",
            " 34  Exercise_Benefit            173 non-null    object \n",
            " 35  PCOS_Medication             173 non-null    object \n",
            "dtypes: float64(2), int64(11), object(23)\n",
            "memory usage: 48.8+ KB\n"
          ]
        }
      ],
      "source": [
        "# Get the information about dataset\n",
        "df.info()"
      ]
    },
    {
      "cell_type": "code",
      "execution_count": 8,
      "metadata": {
        "colab": {
          "base_uri": "https://localhost:8080/",
          "height": 320
        },
        "id": "QEDy6s8EENLB",
        "outputId": "0ee1158c-bfd1-4045-d803-6ffaa07fef59"
      },
      "outputs": [
        {
          "data": {
            "text/html": [
              "<div>\n",
              "<style scoped>\n",
              "    .dataframe tbody tr th:only-of-type {\n",
              "        vertical-align: middle;\n",
              "    }\n",
              "\n",
              "    .dataframe tbody tr th {\n",
              "        vertical-align: top;\n",
              "    }\n",
              "\n",
              "    .dataframe thead th {\n",
              "        text-align: right;\n",
              "    }\n",
              "</style>\n",
              "<table border=\"1\" class=\"dataframe\">\n",
              "  <thead>\n",
              "    <tr style=\"text-align: right;\">\n",
              "      <th></th>\n",
              "      <th>Weight_kg</th>\n",
              "      <th>Height_ft</th>\n",
              "      <th>Diet_Bread_Cereals</th>\n",
              "      <th>Diet_Milk_Products</th>\n",
              "      <th>Diet_Fruits</th>\n",
              "      <th>Diet_Vegetables</th>\n",
              "      <th>Diet_Starchy_Vegetables</th>\n",
              "      <th>Diet_NonStarchy_Vegetables</th>\n",
              "      <th>Diet_Fats</th>\n",
              "      <th>Diet_Sweets</th>\n",
              "      <th>Diet_Fried_Food</th>\n",
              "      <th>Diet_Tea_Coffee</th>\n",
              "      <th>Diet_Multivitamin</th>\n",
              "    </tr>\n",
              "  </thead>\n",
              "  <tbody>\n",
              "    <tr>\n",
              "      <th>count</th>\n",
              "      <td>173.000000</td>\n",
              "      <td>173.000000</td>\n",
              "      <td>173.000000</td>\n",
              "      <td>173.000000</td>\n",
              "      <td>173.000000</td>\n",
              "      <td>173.000000</td>\n",
              "      <td>173.000000</td>\n",
              "      <td>173.000000</td>\n",
              "      <td>173.000000</td>\n",
              "      <td>173.000000</td>\n",
              "      <td>173.000000</td>\n",
              "      <td>173.000000</td>\n",
              "      <td>173.000000</td>\n",
              "    </tr>\n",
              "    <tr>\n",
              "      <th>mean</th>\n",
              "      <td>56.549711</td>\n",
              "      <td>160.636647</td>\n",
              "      <td>5.445087</td>\n",
              "      <td>3.647399</td>\n",
              "      <td>3.034682</td>\n",
              "      <td>3.439306</td>\n",
              "      <td>3.069364</td>\n",
              "      <td>2.450867</td>\n",
              "      <td>4.531792</td>\n",
              "      <td>3.618497</td>\n",
              "      <td>3.179191</td>\n",
              "      <td>4.549133</td>\n",
              "      <td>1.393064</td>\n",
              "    </tr>\n",
              "    <tr>\n",
              "      <th>std</th>\n",
              "      <td>12.025369</td>\n",
              "      <td>7.287373</td>\n",
              "      <td>2.116832</td>\n",
              "      <td>2.548930</td>\n",
              "      <td>2.048527</td>\n",
              "      <td>1.769596</td>\n",
              "      <td>1.857054</td>\n",
              "      <td>1.709808</td>\n",
              "      <td>2.293919</td>\n",
              "      <td>2.255253</td>\n",
              "      <td>2.019448</td>\n",
              "      <td>2.785795</td>\n",
              "      <td>2.326880</td>\n",
              "    </tr>\n",
              "    <tr>\n",
              "      <th>min</th>\n",
              "      <td>36.000000</td>\n",
              "      <td>124.460000</td>\n",
              "      <td>0.000000</td>\n",
              "      <td>0.000000</td>\n",
              "      <td>0.000000</td>\n",
              "      <td>0.000000</td>\n",
              "      <td>0.000000</td>\n",
              "      <td>0.000000</td>\n",
              "      <td>0.000000</td>\n",
              "      <td>0.000000</td>\n",
              "      <td>0.000000</td>\n",
              "      <td>0.000000</td>\n",
              "      <td>0.000000</td>\n",
              "    </tr>\n",
              "    <tr>\n",
              "      <th>25%</th>\n",
              "      <td>49.000000</td>\n",
              "      <td>157.480000</td>\n",
              "      <td>4.000000</td>\n",
              "      <td>1.000000</td>\n",
              "      <td>1.000000</td>\n",
              "      <td>2.000000</td>\n",
              "      <td>2.000000</td>\n",
              "      <td>1.000000</td>\n",
              "      <td>2.000000</td>\n",
              "      <td>2.000000</td>\n",
              "      <td>1.000000</td>\n",
              "      <td>2.000000</td>\n",
              "      <td>0.000000</td>\n",
              "    </tr>\n",
              "    <tr>\n",
              "      <th>50%</th>\n",
              "      <td>55.000000</td>\n",
              "      <td>160.020000</td>\n",
              "      <td>7.000000</td>\n",
              "      <td>3.000000</td>\n",
              "      <td>3.000000</td>\n",
              "      <td>3.000000</td>\n",
              "      <td>3.000000</td>\n",
              "      <td>2.000000</td>\n",
              "      <td>5.000000</td>\n",
              "      <td>3.000000</td>\n",
              "      <td>3.000000</td>\n",
              "      <td>6.000000</td>\n",
              "      <td>0.000000</td>\n",
              "    </tr>\n",
              "    <tr>\n",
              "      <th>75%</th>\n",
              "      <td>64.000000</td>\n",
              "      <td>165.100000</td>\n",
              "      <td>7.000000</td>\n",
              "      <td>7.000000</td>\n",
              "      <td>4.000000</td>\n",
              "      <td>5.000000</td>\n",
              "      <td>4.000000</td>\n",
              "      <td>3.000000</td>\n",
              "      <td>7.000000</td>\n",
              "      <td>6.000000</td>\n",
              "      <td>5.000000</td>\n",
              "      <td>7.000000</td>\n",
              "      <td>2.000000</td>\n",
              "    </tr>\n",
              "    <tr>\n",
              "      <th>max</th>\n",
              "      <td>115.000000</td>\n",
              "      <td>182.880000</td>\n",
              "      <td>7.000000</td>\n",
              "      <td>7.000000</td>\n",
              "      <td>7.000000</td>\n",
              "      <td>7.000000</td>\n",
              "      <td>7.000000</td>\n",
              "      <td>7.000000</td>\n",
              "      <td>7.000000</td>\n",
              "      <td>7.000000</td>\n",
              "      <td>7.000000</td>\n",
              "      <td>7.000000</td>\n",
              "      <td>7.000000</td>\n",
              "    </tr>\n",
              "  </tbody>\n",
              "</table>\n",
              "</div>"
            ],
            "text/plain": [
              "        Weight_kg   Height_ft  Diet_Bread_Cereals  Diet_Milk_Products  \\\n",
              "count  173.000000  173.000000          173.000000          173.000000   \n",
              "mean    56.549711  160.636647            5.445087            3.647399   \n",
              "std     12.025369    7.287373            2.116832            2.548930   \n",
              "min     36.000000  124.460000            0.000000            0.000000   \n",
              "25%     49.000000  157.480000            4.000000            1.000000   \n",
              "50%     55.000000  160.020000            7.000000            3.000000   \n",
              "75%     64.000000  165.100000            7.000000            7.000000   \n",
              "max    115.000000  182.880000            7.000000            7.000000   \n",
              "\n",
              "       Diet_Fruits  Diet_Vegetables  Diet_Starchy_Vegetables  \\\n",
              "count   173.000000       173.000000               173.000000   \n",
              "mean      3.034682         3.439306                 3.069364   \n",
              "std       2.048527         1.769596                 1.857054   \n",
              "min       0.000000         0.000000                 0.000000   \n",
              "25%       1.000000         2.000000                 2.000000   \n",
              "50%       3.000000         3.000000                 3.000000   \n",
              "75%       4.000000         5.000000                 4.000000   \n",
              "max       7.000000         7.000000                 7.000000   \n",
              "\n",
              "       Diet_NonStarchy_Vegetables   Diet_Fats  Diet_Sweets  Diet_Fried_Food  \\\n",
              "count                  173.000000  173.000000   173.000000       173.000000   \n",
              "mean                     2.450867    4.531792     3.618497         3.179191   \n",
              "std                      1.709808    2.293919     2.255253         2.019448   \n",
              "min                      0.000000    0.000000     0.000000         0.000000   \n",
              "25%                      1.000000    2.000000     2.000000         1.000000   \n",
              "50%                      2.000000    5.000000     3.000000         3.000000   \n",
              "75%                      3.000000    7.000000     6.000000         5.000000   \n",
              "max                      7.000000    7.000000     7.000000         7.000000   \n",
              "\n",
              "       Diet_Tea_Coffee  Diet_Multivitamin  \n",
              "count       173.000000         173.000000  \n",
              "mean          4.549133           1.393064  \n",
              "std           2.785795           2.326880  \n",
              "min           0.000000           0.000000  \n",
              "25%           2.000000           0.000000  \n",
              "50%           6.000000           0.000000  \n",
              "75%           7.000000           2.000000  \n",
              "max           7.000000           7.000000  "
            ]
          },
          "execution_count": 8,
          "metadata": {},
          "output_type": "execute_result"
        }
      ],
      "source": [
        "# Get statistical summary of the dataset\n",
        "df.describe()"
      ]
    },
    {
      "cell_type": "markdown",
      "metadata": {
        "id": "kjXECoTMPXON"
      },
      "source": [
        "### **Label Encoding of Categorical Variables**"
      ]
    },
    {
      "cell_type": "code",
      "execution_count": 9,
      "metadata": {
        "id": "ACfO7qMUmrPw"
      },
      "outputs": [],
      "source": [
        "# Label encoding of categorical variables\n",
        "categorical_cols = df.select_dtypes(include=['object']).columns\n",
        "\n",
        "data_encoded = df.copy()\n",
        "\n",
        "label_encoder = LabelEncoder()\n",
        "for col in categorical_cols:\n",
        "    data_encoded[col] = label_encoder.fit_transform(df[col])"
      ]
    },
    {
      "cell_type": "code",
      "execution_count": 10,
      "metadata": {
        "id": "lO2K8-AsosfS"
      },
      "outputs": [],
      "source": [
        "# Feature  scaling\n",
        "scaler= MinMaxScaler()\n",
        "numerical_cols= df.select_dtypes(include=[np.number]).columns\n",
        "\n",
        "data_encoded[numerical_cols] = scaler.fit_transform(data_encoded[numerical_cols])"
      ]
    },
    {
      "cell_type": "code",
      "execution_count": 11,
      "metadata": {
        "colab": {
          "base_uri": "https://localhost:8080/",
          "height": 256
        },
        "id": "h8uTLHgdp1f4",
        "outputId": "d9693e21-0cd2-4723-e088-113eaec9beec"
      },
      "outputs": [
        {
          "data": {
            "text/html": [
              "<div>\n",
              "<style scoped>\n",
              "    .dataframe tbody tr th:only-of-type {\n",
              "        vertical-align: middle;\n",
              "    }\n",
              "\n",
              "    .dataframe tbody tr th {\n",
              "        vertical-align: top;\n",
              "    }\n",
              "\n",
              "    .dataframe thead th {\n",
              "        text-align: right;\n",
              "    }\n",
              "</style>\n",
              "<table border=\"1\" class=\"dataframe\">\n",
              "  <thead>\n",
              "    <tr style=\"text-align: right;\">\n",
              "      <th></th>\n",
              "      <th>Age</th>\n",
              "      <th>Weight_kg</th>\n",
              "      <th>Height_ft</th>\n",
              "      <th>Marital_Status</th>\n",
              "      <th>PCOS</th>\n",
              "      <th>Family_History_PCOS</th>\n",
              "      <th>Menstrual_Irregularity</th>\n",
              "      <th>Hormonal_Imbalance</th>\n",
              "      <th>Hyperandrogenism</th>\n",
              "      <th>Hirsutism</th>\n",
              "      <th>...</th>\n",
              "      <th>Diet_Multivitamin</th>\n",
              "      <th>Vegetarian</th>\n",
              "      <th>Exercise_Frequency</th>\n",
              "      <th>Exercise_Type</th>\n",
              "      <th>Exercise_Duration</th>\n",
              "      <th>Sleep_Hours</th>\n",
              "      <th>Stress_Level</th>\n",
              "      <th>Smoking</th>\n",
              "      <th>Exercise_Benefit</th>\n",
              "      <th>PCOS_Medication</th>\n",
              "    </tr>\n",
              "  </thead>\n",
              "  <tbody>\n",
              "    <tr>\n",
              "      <th>0</th>\n",
              "      <td>0</td>\n",
              "      <td>0.379747</td>\n",
              "      <td>0.565217</td>\n",
              "      <td>1</td>\n",
              "      <td>0</td>\n",
              "      <td>0</td>\n",
              "      <td>1</td>\n",
              "      <td>0</td>\n",
              "      <td>0</td>\n",
              "      <td>0</td>\n",
              "      <td>...</td>\n",
              "      <td>0.000000</td>\n",
              "      <td>0</td>\n",
              "      <td>4</td>\n",
              "      <td>0</td>\n",
              "      <td>0</td>\n",
              "      <td>2</td>\n",
              "      <td>0</td>\n",
              "      <td>0</td>\n",
              "      <td>2</td>\n",
              "      <td>5</td>\n",
              "    </tr>\n",
              "    <tr>\n",
              "      <th>1</th>\n",
              "      <td>5</td>\n",
              "      <td>0.253165</td>\n",
              "      <td>0.695652</td>\n",
              "      <td>1</td>\n",
              "      <td>0</td>\n",
              "      <td>0</td>\n",
              "      <td>0</td>\n",
              "      <td>0</td>\n",
              "      <td>0</td>\n",
              "      <td>0</td>\n",
              "      <td>...</td>\n",
              "      <td>0.000000</td>\n",
              "      <td>0</td>\n",
              "      <td>2</td>\n",
              "      <td>9</td>\n",
              "      <td>2</td>\n",
              "      <td>0</td>\n",
              "      <td>0</td>\n",
              "      <td>0</td>\n",
              "      <td>2</td>\n",
              "      <td>5</td>\n",
              "    </tr>\n",
              "    <tr>\n",
              "      <th>2</th>\n",
              "      <td>5</td>\n",
              "      <td>0.670886</td>\n",
              "      <td>0.739130</td>\n",
              "      <td>1</td>\n",
              "      <td>0</td>\n",
              "      <td>1</td>\n",
              "      <td>0</td>\n",
              "      <td>0</td>\n",
              "      <td>0</td>\n",
              "      <td>2</td>\n",
              "      <td>...</td>\n",
              "      <td>0.000000</td>\n",
              "      <td>0</td>\n",
              "      <td>4</td>\n",
              "      <td>0</td>\n",
              "      <td>2</td>\n",
              "      <td>0</td>\n",
              "      <td>1</td>\n",
              "      <td>0</td>\n",
              "      <td>2</td>\n",
              "      <td>5</td>\n",
              "    </tr>\n",
              "    <tr>\n",
              "      <th>3</th>\n",
              "      <td>0</td>\n",
              "      <td>0.240506</td>\n",
              "      <td>0.608696</td>\n",
              "      <td>1</td>\n",
              "      <td>0</td>\n",
              "      <td>1</td>\n",
              "      <td>0</td>\n",
              "      <td>2</td>\n",
              "      <td>0</td>\n",
              "      <td>2</td>\n",
              "      <td>...</td>\n",
              "      <td>0.142857</td>\n",
              "      <td>0</td>\n",
              "      <td>3</td>\n",
              "      <td>9</td>\n",
              "      <td>4</td>\n",
              "      <td>0</td>\n",
              "      <td>1</td>\n",
              "      <td>0</td>\n",
              "      <td>2</td>\n",
              "      <td>5</td>\n",
              "    </tr>\n",
              "    <tr>\n",
              "      <th>4</th>\n",
              "      <td>5</td>\n",
              "      <td>0.240506</td>\n",
              "      <td>0.608696</td>\n",
              "      <td>1</td>\n",
              "      <td>0</td>\n",
              "      <td>0</td>\n",
              "      <td>0</td>\n",
              "      <td>0</td>\n",
              "      <td>0</td>\n",
              "      <td>0</td>\n",
              "      <td>...</td>\n",
              "      <td>0.000000</td>\n",
              "      <td>0</td>\n",
              "      <td>2</td>\n",
              "      <td>0</td>\n",
              "      <td>1</td>\n",
              "      <td>0</td>\n",
              "      <td>1</td>\n",
              "      <td>0</td>\n",
              "      <td>1</td>\n",
              "      <td>5</td>\n",
              "    </tr>\n",
              "  </tbody>\n",
              "</table>\n",
              "<p>5 rows × 36 columns</p>\n",
              "</div>"
            ],
            "text/plain": [
              "   Age  Weight_kg  Height_ft  Marital_Status  PCOS  Family_History_PCOS  \\\n",
              "0    0   0.379747   0.565217               1     0                    0   \n",
              "1    5   0.253165   0.695652               1     0                    0   \n",
              "2    5   0.670886   0.739130               1     0                    1   \n",
              "3    0   0.240506   0.608696               1     0                    1   \n",
              "4    5   0.240506   0.608696               1     0                    0   \n",
              "\n",
              "   Menstrual_Irregularity  Hormonal_Imbalance  Hyperandrogenism  Hirsutism  \\\n",
              "0                       1                   0                 0          0   \n",
              "1                       0                   0                 0          0   \n",
              "2                       0                   0                 0          2   \n",
              "3                       0                   2                 0          2   \n",
              "4                       0                   0                 0          0   \n",
              "\n",
              "   ...  Diet_Multivitamin  Vegetarian  Exercise_Frequency  Exercise_Type  \\\n",
              "0  ...           0.000000           0                   4              0   \n",
              "1  ...           0.000000           0                   2              9   \n",
              "2  ...           0.000000           0                   4              0   \n",
              "3  ...           0.142857           0                   3              9   \n",
              "4  ...           0.000000           0                   2              0   \n",
              "\n",
              "   Exercise_Duration  Sleep_Hours  Stress_Level  Smoking  Exercise_Benefit  \\\n",
              "0                  0            2             0        0                 2   \n",
              "1                  2            0             0        0                 2   \n",
              "2                  2            0             1        0                 2   \n",
              "3                  4            0             1        0                 2   \n",
              "4                  1            0             1        0                 1   \n",
              "\n",
              "   PCOS_Medication  \n",
              "0                5  \n",
              "1                5  \n",
              "2                5  \n",
              "3                5  \n",
              "4                5  \n",
              "\n",
              "[5 rows x 36 columns]"
            ]
          },
          "execution_count": 11,
          "metadata": {},
          "output_type": "execute_result"
        }
      ],
      "source": [
        "# Preview encoded data\n",
        "data_encoded.head()"
      ]
    },
    {
      "cell_type": "markdown",
      "metadata": {
        "id": "KO5FxIoTOnVU"
      },
      "source": [
        "### **Feature Engineering**"
      ]
    },
    {
      "cell_type": "code",
      "execution_count": 13,
      "metadata": {
        "id": "1FGi6U7jrjmT"
      },
      "outputs": [],
      "source": [
        "# BMI Column\n",
        "df['Height_m'] = df['Height_ft'] * 0.3048\n",
        "df['BMI'] = df['Weight_kg'] / (df['Height_m'] ** 2)\n",
        "\n",
        "df['BMI'] = scaler.fit_transform(df[['BMI']])"
      ]
    },
    {
      "cell_type": "code",
      "execution_count": 14,
      "metadata": {
        "id": "qR3WRcJ0r7TE"
      },
      "outputs": [],
      "source": [
        "# Diet Score\n",
        "df['Diet_Score'] = (\n",
        "    2 * df['Diet_Fruits'] +\n",
        "    2 * df['Diet_Vegetables'] +\n",
        "    1 * df['Diet_Bread_Cereals'] +\n",
        "    1 * df['Diet_Milk_Products'] +\n",
        "    -2 * df['Diet_Sweets'] +\n",
        "    -2 * df['Diet_Fried_Food']+\n",
        "    2 * df['Diet_NonStarchy_Vegetables']+\n",
        "    -1  * df['Diet_Starchy_Vegetables']+\n",
        "    -1 * df['Diet_Fats']+\n",
        "    -1 *df['Diet_Fried_Food']+\n",
        "    -1*df['Diet_Tea_Coffee']+\n",
        "    2*df['Diet_Multivitamin']\n",
        ")\n",
        "data_encoded['Normalized_Diet_Score'] = scaler.fit_transform(df[['Diet_Score']])\n"
      ]
    },
    {
      "cell_type": "code",
      "execution_count": 15,
      "metadata": {
        "id": "BlMONkiWIIkQ"
      },
      "outputs": [],
      "source": [
        "# Sleep Score\n",
        "sleep_score_map = {\n",
        "    '6-8 hours': 3,\n",
        "    '9-12 hours': 2,\n",
        "    'Less than 6 hours': 1,\n",
        "    'More than 12 hours': 1\n",
        "}\n",
        "df['Sleep_Score'] = df['Sleep_Hours'].map(sleep_score_map)\n"
      ]
    },
    {
      "cell_type": "code",
      "execution_count": 16,
      "metadata": {
        "colab": {
          "base_uri": "https://localhost:8080/"
        },
        "id": "7B8LauUpJxNr",
        "outputId": "37500365-e279-412e-f80a-2cf58c9b9150"
      },
      "outputs": [
        {
          "name": "stdout",
          "output_type": "stream",
          "text": [
            "Exercise_Frequency\n",
            "Rarely              80\n",
            "1-2 Times a Week    28\n",
            "Never               26\n",
            "3-4 Times a Week    20\n",
            "Daily               19\n",
            "Name: count, dtype: int64\n",
            "Exercise_Duration\n",
            "Not Applicable          68\n",
            "Less than 30 minutes    51\n",
            "30 minutes              28\n",
            "30 minutes to 1 hour    18\n",
            "More than 30 minutes     8\n",
            "Name: count, dtype: int64\n"
          ]
        }
      ],
      "source": [
        "print(df['Exercise_Frequency'].value_counts())\n",
        "print(df['Exercise_Duration'].value_counts())"
      ]
    },
    {
      "cell_type": "code",
      "execution_count": 17,
      "metadata": {
        "id": "b7wxgSVMLANL"
      },
      "outputs": [],
      "source": [
        "# Exercise Frequency Score\n",
        "exercise_frequency_map={\n",
        "    'Rarely':1,\n",
        "    'Never':0,\n",
        "    '1-2 Times a Week':2,\n",
        "    '3-4 Times a Week':3,\n",
        "    'Daily':4\n",
        "}\n",
        "df['Exercise_Frequency_Score'] = df['Exercise_Frequency'].map(exercise_frequency_map)\n"
      ]
    },
    {
      "cell_type": "code",
      "execution_count": 18,
      "metadata": {
        "id": "9xDB2M24oV97"
      },
      "outputs": [],
      "source": [
        "# Exercise Duration Score\n",
        "exercise_duration_score={\n",
        "   'Not Applicable':0,\n",
        "   'Less than 30 minutes': 1,\n",
        "   '30 minutes':2,\n",
        "   '30 minutes to 1 hour':3,\n",
        "   'More than 30 minutes':4\n",
        "}\n",
        "df['Exercise_Duration_Score']=df['Exercise_Duration'].map(exercise_duration_score)"
      ]
    },
    {
      "cell_type": "code",
      "execution_count": 19,
      "metadata": {
        "id": "bww-5UUiv4jM"
      },
      "outputs": [],
      "source": [
        "# Total Exercise Score\n",
        "df['Exercise_Score']=df['Exercise_Frequency_Score']+df['Exercise_Duration_Score']"
      ]
    },
    {
      "cell_type": "code",
      "execution_count": 20,
      "metadata": {
        "id": "KQnBl49axAto"
      },
      "outputs": [],
      "source": [
        "# Healthy Lifestyle Score\n",
        "df['Healthy_Lifestyle_Score']=df['Diet_Score']+df['Exercise_Score']+df['Sleep_Score']"
      ]
    },
    {
      "cell_type": "code",
      "execution_count": 21,
      "metadata": {
        "colab": {
          "base_uri": "https://localhost:8080/"
        },
        "id": "ZdR7SxuhMgMw",
        "outputId": "5fa54adf-873b-481a-82b5-6fff80d1111d"
      },
      "outputs": [
        {
          "data": {
            "text/plain": [
              "Index(['Age', 'Weight_kg', 'Height_ft', 'Marital_Status', 'PCOS',\n",
              "       'Family_History_PCOS', 'Menstrual_Irregularity', 'Hormonal_Imbalance',\n",
              "       'Hyperandrogenism', 'Hirsutism', 'Mental_Health',\n",
              "       'Conception_Difficulty', 'Insulin_Resistance', 'Diabetes',\n",
              "       'Childhood_Trauma', 'Cardiovascular_Disease', 'Diet_Bread_Cereals',\n",
              "       'Diet_Milk_Products', 'Diet_Fruits', 'Diet_Vegetables',\n",
              "       'Diet_Starchy_Vegetables', 'Diet_NonStarchy_Vegetables', 'Diet_Fats',\n",
              "       'Diet_Sweets', 'Diet_Fried_Food', 'Diet_Tea_Coffee',\n",
              "       'Diet_Multivitamin', 'Vegetarian', 'Exercise_Frequency',\n",
              "       'Exercise_Type', 'Exercise_Duration', 'Sleep_Hours', 'Stress_Level',\n",
              "       'Smoking', 'Exercise_Benefit', 'PCOS_Medication', 'Height_m', 'BMI',\n",
              "       'Diet_Score', 'Sleep_Score', 'Exercise_Frequency_Score',\n",
              "       'Exercise_Duration_Score', 'Exercise_Score', 'Healthy_Lifestyle_Score'],\n",
              "      dtype='object')"
            ]
          },
          "execution_count": 21,
          "metadata": {},
          "output_type": "execute_result"
        }
      ],
      "source": [
        "df.columns"
      ]
    },
    {
      "cell_type": "code",
      "execution_count": 22,
      "metadata": {
        "id": "8QRVdXHUxmbF"
      },
      "outputs": [],
      "source": [
        "# save the data to new csv\n",
        "df.to_csv('new_data.csv', index=False)\n"
      ]
    },
    {
      "cell_type": "code",
      "execution_count": 24,
      "metadata": {
        "id": "UFu0mpLJzp6c"
      },
      "outputs": [
        {
          "data": {
            "text/plain": [
              "(173, 44)"
            ]
          },
          "execution_count": 24,
          "metadata": {},
          "output_type": "execute_result"
        }
      ],
      "source": [
        "df2=pd.read_csv('new_data.csv')\n",
        "df2.columns\n",
        "df2.dtypes\n",
        "df2.shape"
      ]
    }
  ],
  "metadata": {
    "colab": {
      "provenance": []
    },
    "kernelspec": {
      "display_name": "Python 3",
      "name": "python3"
    },
    "language_info": {
      "codemirror_mode": {
        "name": "ipython",
        "version": 3
      },
      "file_extension": ".py",
      "mimetype": "text/x-python",
      "name": "python",
      "nbconvert_exporter": "python",
      "pygments_lexer": "ipython3",
      "version": "3.13.1"
    }
  },
  "nbformat": 4,
  "nbformat_minor": 0
}
